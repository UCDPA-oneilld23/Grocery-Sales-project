{
 "cells": [
  {
   "cell_type": "code",
   "execution_count": 2,
   "id": "606462d7",
   "metadata": {},
   "outputs": [],
   "source": [
    "import pandas as pd"
   ]
  },
  {
   "cell_type": "code",
   "execution_count": 3,
   "id": "baa6174f",
   "metadata": {},
   "outputs": [],
   "source": [
    "import os"
   ]
  },
  {
   "cell_type": "code",
   "execution_count": 4,
   "id": "34e36a7f",
   "metadata": {},
   "outputs": [
    {
     "data": {
      "text/plain": [
       "'/Users/darraghoneill'"
      ]
     },
     "execution_count": 4,
     "metadata": {},
     "output_type": "execute_result"
    }
   ],
   "source": [
    "os.getcwd()"
   ]
  },
  {
   "cell_type": "code",
   "execution_count": 5,
   "id": "e8913fe0",
   "metadata": {},
   "outputs": [],
   "source": [
    "# read the data using read_csv\n",
    "\n",
    "Sales_data = pd.read_csv('/Users/darraghoneill/Python Project/Dataset/archive/grocery_sales_v1.csv', index_col=0, parse_dates=['new_order_date'])"
   ]
  },
  {
   "cell_type": "code",
   "execution_count": 6,
   "id": "d355c7d1",
   "metadata": {
    "scrolled": true
   },
   "outputs": [
    {
     "data": {
      "text/html": [
       "<div>\n",
       "<style scoped>\n",
       "    .dataframe tbody tr th:only-of-type {\n",
       "        vertical-align: middle;\n",
       "    }\n",
       "\n",
       "    .dataframe tbody tr th {\n",
       "        vertical-align: top;\n",
       "    }\n",
       "\n",
       "    .dataframe thead th {\n",
       "        text-align: right;\n",
       "    }\n",
       "</style>\n",
       "<table border=\"1\" class=\"dataframe\">\n",
       "  <thead>\n",
       "    <tr style=\"text-align: right;\">\n",
       "      <th></th>\n",
       "      <th>customer_name</th>\n",
       "      <th>new_order_date</th>\n",
       "      <th>order_year</th>\n",
       "      <th>month_name</th>\n",
       "      <th>order_month</th>\n",
       "      <th>order_day</th>\n",
       "      <th>category</th>\n",
       "      <th>sub_category</th>\n",
       "      <th>net_sales</th>\n",
       "      <th>discount</th>\n",
       "      <th>profit</th>\n",
       "      <th>total_sales</th>\n",
       "      <th>profit_percentage</th>\n",
       "      <th>region</th>\n",
       "      <th>city</th>\n",
       "    </tr>\n",
       "    <tr>\n",
       "      <th>order_id</th>\n",
       "      <th></th>\n",
       "      <th></th>\n",
       "      <th></th>\n",
       "      <th></th>\n",
       "      <th></th>\n",
       "      <th></th>\n",
       "      <th></th>\n",
       "      <th></th>\n",
       "      <th></th>\n",
       "      <th></th>\n",
       "      <th></th>\n",
       "      <th></th>\n",
       "      <th></th>\n",
       "      <th></th>\n",
       "      <th></th>\n",
       "    </tr>\n",
       "  </thead>\n",
       "  <tbody>\n",
       "    <tr>\n",
       "      <th>OD1</th>\n",
       "      <td>Harish</td>\n",
       "      <td>2017-11-08</td>\n",
       "      <td>2017</td>\n",
       "      <td>November</td>\n",
       "      <td>11</td>\n",
       "      <td>8</td>\n",
       "      <td>Oil &amp; Masala</td>\n",
       "      <td>Masalas</td>\n",
       "      <td>852.72</td>\n",
       "      <td>0.12</td>\n",
       "      <td>401.28</td>\n",
       "      <td>1254</td>\n",
       "      <td>47.058824</td>\n",
       "      <td>North</td>\n",
       "      <td>Vellore</td>\n",
       "    </tr>\n",
       "    <tr>\n",
       "      <th>OD2</th>\n",
       "      <td>Sudha</td>\n",
       "      <td>2017-11-08</td>\n",
       "      <td>2017</td>\n",
       "      <td>November</td>\n",
       "      <td>11</td>\n",
       "      <td>8</td>\n",
       "      <td>Beverages</td>\n",
       "      <td>Health Drinks</td>\n",
       "      <td>599.20</td>\n",
       "      <td>0.18</td>\n",
       "      <td>149.80</td>\n",
       "      <td>749</td>\n",
       "      <td>25.000000</td>\n",
       "      <td>South</td>\n",
       "      <td>Krishnagiri</td>\n",
       "    </tr>\n",
       "    <tr>\n",
       "      <th>OD3</th>\n",
       "      <td>Hussain</td>\n",
       "      <td>2017-06-12</td>\n",
       "      <td>2017</td>\n",
       "      <td>June</td>\n",
       "      <td>6</td>\n",
       "      <td>12</td>\n",
       "      <td>Food Grains</td>\n",
       "      <td>Atta &amp; Flour</td>\n",
       "      <td>2194.80</td>\n",
       "      <td>0.21</td>\n",
       "      <td>165.20</td>\n",
       "      <td>2360</td>\n",
       "      <td>7.526882</td>\n",
       "      <td>West</td>\n",
       "      <td>Perambalur</td>\n",
       "    </tr>\n",
       "    <tr>\n",
       "      <th>OD4</th>\n",
       "      <td>Jackson</td>\n",
       "      <td>2016-10-11</td>\n",
       "      <td>2016</td>\n",
       "      <td>October</td>\n",
       "      <td>10</td>\n",
       "      <td>11</td>\n",
       "      <td>Fruits &amp; Veggies</td>\n",
       "      <td>Fresh Vegetables</td>\n",
       "      <td>806.40</td>\n",
       "      <td>0.25</td>\n",
       "      <td>89.60</td>\n",
       "      <td>896</td>\n",
       "      <td>11.111111</td>\n",
       "      <td>South</td>\n",
       "      <td>Dharmapuri</td>\n",
       "    </tr>\n",
       "    <tr>\n",
       "      <th>OD5</th>\n",
       "      <td>Ridhesh</td>\n",
       "      <td>2016-10-11</td>\n",
       "      <td>2016</td>\n",
       "      <td>October</td>\n",
       "      <td>10</td>\n",
       "      <td>11</td>\n",
       "      <td>Food Grains</td>\n",
       "      <td>Organic Staples</td>\n",
       "      <td>1436.55</td>\n",
       "      <td>0.26</td>\n",
       "      <td>918.45</td>\n",
       "      <td>2355</td>\n",
       "      <td>63.934426</td>\n",
       "      <td>South</td>\n",
       "      <td>Ooty</td>\n",
       "    </tr>\n",
       "  </tbody>\n",
       "</table>\n",
       "</div>"
      ],
      "text/plain": [
       "         customer_name new_order_date  order_year month_name  order_month  \\\n",
       "order_id                                                                    \n",
       "OD1             Harish     2017-11-08        2017   November           11   \n",
       "OD2              Sudha     2017-11-08        2017   November           11   \n",
       "OD3            Hussain     2017-06-12        2017       June            6   \n",
       "OD4            Jackson     2016-10-11        2016    October           10   \n",
       "OD5            Ridhesh     2016-10-11        2016    October           10   \n",
       "\n",
       "          order_day          category      sub_category  net_sales  discount  \\\n",
       "order_id                                                                       \n",
       "OD1               8      Oil & Masala           Masalas     852.72      0.12   \n",
       "OD2               8         Beverages     Health Drinks     599.20      0.18   \n",
       "OD3              12       Food Grains      Atta & Flour    2194.80      0.21   \n",
       "OD4              11  Fruits & Veggies  Fresh Vegetables     806.40      0.25   \n",
       "OD5              11       Food Grains   Organic Staples    1436.55      0.26   \n",
       "\n",
       "          profit  total_sales  profit_percentage region         city  \n",
       "order_id                                                              \n",
       "OD1       401.28         1254          47.058824  North      Vellore  \n",
       "OD2       149.80          749          25.000000  South  Krishnagiri  \n",
       "OD3       165.20         2360           7.526882   West   Perambalur  \n",
       "OD4        89.60          896          11.111111  South   Dharmapuri  \n",
       "OD5       918.45         2355          63.934426  South         Ooty  "
      ]
     },
     "execution_count": 6,
     "metadata": {},
     "output_type": "execute_result"
    }
   ],
   "source": [
    "# Use data.head() to read the first few values of the data\n",
    "\n",
    "Sales_data.head()"
   ]
  },
  {
   "cell_type": "code",
   "execution_count": 7,
   "id": "729463dc",
   "metadata": {},
   "outputs": [
    {
     "data": {
      "text/plain": [
       "(9994, 15)"
      ]
     },
     "execution_count": 7,
     "metadata": {},
     "output_type": "execute_result"
    }
   ],
   "source": [
    "# How many rows and columns?\n",
    "\n",
    "Sales_data.shape"
   ]
  },
  {
   "cell_type": "code",
   "execution_count": 8,
   "id": "f0fd1a64",
   "metadata": {},
   "outputs": [],
   "source": [
    "# Use .isnull().sum() to count the missing values\n",
    "\n",
    "missing_values_count=Sales_data.isnull().sum()"
   ]
  },
  {
   "cell_type": "code",
   "execution_count": 9,
   "id": "aca2b1cb",
   "metadata": {},
   "outputs": [
    {
     "name": "stdout",
     "output_type": "stream",
     "text": [
      "customer_name        0\n",
      "new_order_date       0\n",
      "order_year           0\n",
      "month_name           0\n",
      "order_month          0\n",
      "order_day            0\n",
      "category             0\n",
      "sub_category         0\n",
      "net_sales            0\n",
      "discount             0\n",
      "profit               0\n",
      "total_sales          0\n",
      "profit_percentage    0\n",
      "region               0\n",
      "city                 0\n",
      "dtype: int64\n"
     ]
    }
   ],
   "source": [
    "print(missing_values_count[0:])"
   ]
  },
  {
   "cell_type": "code",
   "execution_count": 10,
   "id": "54de1f1c",
   "metadata": {},
   "outputs": [
    {
     "name": "stdout",
     "output_type": "stream",
     "text": [
      "(9994, 15) (9994, 15)\n"
     ]
    }
   ],
   "source": [
    "# check for duplicates\n",
    "\n",
    "drop_duplicates = Sales_data.drop_duplicates()\n",
    "print(Sales_data.shape, drop_duplicates.shape)"
   ]
  },
  {
   "cell_type": "code",
   "execution_count": 11,
   "id": "134d01cb",
   "metadata": {},
   "outputs": [
    {
     "name": "stdout",
     "output_type": "stream",
     "text": [
      "<class 'pandas.core.frame.DataFrame'>\n",
      "Index: 9994 entries, OD1 to OD9994\n",
      "Data columns (total 15 columns):\n",
      " #   Column             Non-Null Count  Dtype         \n",
      "---  ------             --------------  -----         \n",
      " 0   customer_name      9994 non-null   object        \n",
      " 1   new_order_date     9994 non-null   datetime64[ns]\n",
      " 2   order_year         9994 non-null   int64         \n",
      " 3   month_name         9994 non-null   object        \n",
      " 4   order_month        9994 non-null   int64         \n",
      " 5   order_day          9994 non-null   int64         \n",
      " 6   category           9994 non-null   object        \n",
      " 7   sub_category       9994 non-null   object        \n",
      " 8   net_sales          9994 non-null   float64       \n",
      " 9   discount           9994 non-null   float64       \n",
      " 10  profit             9994 non-null   float64       \n",
      " 11  total_sales        9994 non-null   int64         \n",
      " 12  profit_percentage  9994 non-null   float64       \n",
      " 13  region             9994 non-null   object        \n",
      " 14  city               9994 non-null   object        \n",
      "dtypes: datetime64[ns](1), float64(4), int64(4), object(6)\n",
      "memory usage: 1.2+ MB\n"
     ]
    }
   ],
   "source": [
    "# use .info() to review the data types\n",
    "\n",
    "Sales_data.info()"
   ]
  },
  {
   "cell_type": "code",
   "execution_count": 83,
   "id": "49922047",
   "metadata": {},
   "outputs": [
    {
     "data": {
      "text/plain": [
       "category           sub_category      \n",
       "Bakery             Biscuits              1490.376906\n",
       "                   Breads & Buns         1479.254980\n",
       "                   Cakes                 1516.840708\n",
       "Beverages          Health Drinks         1462.363004\n",
       "                   Soft Drinks           1518.170338\n",
       "Eggs, Meat & Fish  Chicken               1495.681034\n",
       "                   Eggs                  1517.562005\n",
       "                   Fish                  1519.100271\n",
       "                   Mutton                1551.269036\n",
       "Food Grains        Atta & Flour          1514.586402\n",
       "                   Dals & Pulses         1525.862974\n",
       "                   Organic Staples       1502.497312\n",
       "                   Rice                  1510.069697\n",
       "Fruits & Veggies   Fresh Fruits          1493.799458\n",
       "                   Fresh Vegetables      1485.429379\n",
       "                   Organic Fruits        1446.557471\n",
       "                   Organic Vegetables    1499.340058\n",
       "Oil & Masala       Edible Oil & Ghee     1481.343681\n",
       "                   Masalas               1506.436285\n",
       "                   Spices                1505.315436\n",
       "Snacks             Chocolates            1470.737475\n",
       "                   Cookies               1477.332692\n",
       "                   Noodles               1485.727273\n",
       "Name: total_sales, dtype: float64"
      ]
     },
     "execution_count": 83,
     "metadata": {},
     "output_type": "execute_result"
    }
   ],
   "source": [
    "# Group by Category and sub category\n",
    "\n",
    "Sales_data.groupby(['category','sub_category'])['total_sales'].agg('mean', 'median')"
   ]
  },
  {
   "cell_type": "code",
   "execution_count": 14,
   "id": "97be56de",
   "metadata": {},
   "outputs": [],
   "source": [
    "import matplotlib.pyplot as plt"
   ]
  },
  {
   "cell_type": "code",
   "execution_count": 15,
   "id": "c8bbc554",
   "metadata": {},
   "outputs": [],
   "source": [
    "x = Sales_data['region']"
   ]
  },
  {
   "cell_type": "code",
   "execution_count": 16,
   "id": "9fc22839",
   "metadata": {},
   "outputs": [],
   "source": [
    "y = Sales_data['total_sales']"
   ]
  },
  {
   "cell_type": "code",
   "execution_count": 17,
   "id": "e6a1207f",
   "metadata": {},
   "outputs": [],
   "source": [
    "# Assign the date of the first order to the variable 'First_order'\n",
    "\n",
    "First_order = Sales_data[\"new_order_date\"].min()"
   ]
  },
  {
   "cell_type": "code",
   "execution_count": 18,
   "id": "e6224218",
   "metadata": {},
   "outputs": [
    {
     "name": "stdout",
     "output_type": "stream",
     "text": [
      "2015-01-03 00:00:00\n"
     ]
    }
   ],
   "source": [
    "print(First_order)"
   ]
  },
  {
   "cell_type": "code",
   "execution_count": 19,
   "id": "d733088f",
   "metadata": {},
   "outputs": [],
   "source": [
    "# Assign the date of the most recent order to the variable 'Last_order'\n",
    "\n",
    "Last_order = Sales_data[\"new_order_date\"].max()"
   ]
  },
  {
   "cell_type": "code",
   "execution_count": 20,
   "id": "050892e3",
   "metadata": {},
   "outputs": [
    {
     "name": "stdout",
     "output_type": "stream",
     "text": [
      "2018-12-30 00:00:00\n"
     ]
    }
   ],
   "source": [
    "print(Last_order)"
   ]
  },
  {
   "cell_type": "code",
   "execution_count": 21,
   "id": "07ec2be1",
   "metadata": {},
   "outputs": [],
   "source": [
    "# From the above lines, we see the date includes orders for 3 years from 2015 to 2018"
   ]
  },
  {
   "cell_type": "code",
   "execution_count": 22,
   "id": "05f01bc8",
   "metadata": {},
   "outputs": [],
   "source": [
    "# Define a function 'pct50' to review the 0.5 quantile and verify using .median()\n",
    "\n",
    "def pct50(column):\n",
    "    return column.quantile(0.5)"
   ]
  },
  {
   "cell_type": "code",
   "execution_count": 23,
   "id": "048f6e41",
   "metadata": {},
   "outputs": [
    {
     "data": {
      "text/plain": [
       "1498.0"
      ]
     },
     "execution_count": 23,
     "metadata": {},
     "output_type": "execute_result"
    }
   ],
   "source": [
    "Sales_data[\"total_sales\"].agg(pct50)"
   ]
  },
  {
   "cell_type": "code",
   "execution_count": 24,
   "id": "653b260c",
   "metadata": {},
   "outputs": [
    {
     "data": {
      "text/plain": [
       "1498.0"
      ]
     },
     "execution_count": 24,
     "metadata": {},
     "output_type": "execute_result"
    }
   ],
   "source": [
    "Sales_data[\"total_sales\"].median()"
   ]
  },
  {
   "cell_type": "code",
   "execution_count": 25,
   "id": "433dd786",
   "metadata": {},
   "outputs": [],
   "source": [
    "# Define a function 'pct25' to review the 0.25 quantile \n",
    "\n",
    "def pct25(column):\n",
    "    return column.quantile(0.25)"
   ]
  },
  {
   "cell_type": "code",
   "execution_count": 26,
   "id": "15ba8850",
   "metadata": {},
   "outputs": [],
   "source": [
    "# Define a function 'pct75' to review the 0.75 quantile \n",
    "\n",
    "def pct75(column):\n",
    "    return column.quantile(0.75)"
   ]
  },
  {
   "cell_type": "code",
   "execution_count": 27,
   "id": "968d3980",
   "metadata": {},
   "outputs": [
    {
     "data": {
      "text/plain": [
       "pct25    1000.00\n",
       "pct50    1498.00\n",
       "pct75    1994.75\n",
       "Name: total_sales, dtype: float64"
      ]
     },
     "execution_count": 27,
     "metadata": {},
     "output_type": "execute_result"
    }
   ],
   "source": [
    "Sales_data[\"total_sales\"].agg([pct25, pct50, pct75])"
   ]
  },
  {
   "cell_type": "code",
   "execution_count": 28,
   "id": "82037ff8",
   "metadata": {},
   "outputs": [],
   "source": [
    "# Determine the number of orders per city, from highest to lowest\n",
    "\n",
    "Orders_by_city = Sales_data[\"city\"].value_counts(sort=True)"
   ]
  },
  {
   "cell_type": "code",
   "execution_count": 29,
   "id": "4a408159",
   "metadata": {},
   "outputs": [
    {
     "name": "stdout",
     "output_type": "stream",
     "text": [
      "Kanyakumari       459\n",
      "Tirunelveli       446\n",
      "Bodi              442\n",
      "Krishnagiri       440\n",
      "Vellore           435\n",
      "Perambalur        434\n",
      "Tenkasi           432\n",
      "Chennai           432\n",
      "Salem             431\n",
      "Pudukottai        430\n",
      "Karur             430\n",
      "Coimbatore        428\n",
      "Ramanadhapuram    421\n",
      "Cumbum            417\n",
      "Virudhunagar      416\n",
      "Madurai           408\n",
      "Ooty              404\n",
      "Namakkal          403\n",
      "Viluppuram        397\n",
      "Dindigul          396\n",
      "Theni             387\n",
      "Dharmapuri        376\n",
      "Nagercoil         373\n",
      "Trichy            357\n",
      "Name: city, dtype: int64\n"
     ]
    }
   ],
   "source": [
    "print(Orders_by_city)"
   ]
  },
  {
   "cell_type": "code",
   "execution_count": 30,
   "id": "7768b0cc",
   "metadata": {},
   "outputs": [],
   "source": [
    "# Determine the number of orders per Category\n",
    "\n",
    "Orders_by_category = Sales_data[\"category\"].value_counts(sort=True)"
   ]
  },
  {
   "cell_type": "code",
   "execution_count": 31,
   "id": "9eafed25",
   "metadata": {},
   "outputs": [
    {
     "name": "stdout",
     "output_type": "stream",
     "text": [
      "Snacks               1514\n",
      "Eggs, Meat & Fish    1490\n",
      "Fruits & Veggies     1418\n",
      "Bakery               1413\n",
      "Beverages            1400\n",
      "Food Grains          1398\n",
      "Oil & Masala         1361\n",
      "Name: category, dtype: int64\n"
     ]
    }
   ],
   "source": [
    "print(Orders_by_category)"
   ]
  },
  {
   "cell_type": "code",
   "execution_count": 32,
   "id": "117a6119",
   "metadata": {},
   "outputs": [],
   "source": [
    "# Determine the number of orders per Sub Category\n",
    "\n",
    "Orders_by_sub_category = Sales_data[\"sub_category\"].value_counts(sort=True)"
   ]
  },
  {
   "cell_type": "code",
   "execution_count": 33,
   "id": "40ad6eff",
   "metadata": {},
   "outputs": [
    {
     "name": "stdout",
     "output_type": "stream",
     "text": [
      "Health Drinks         719\n",
      "Soft Drinks           681\n",
      "Cookies               520\n",
      "Breads & Buns         502\n",
      "Chocolates            499\n",
      "Noodles               495\n",
      "Masalas               463\n",
      "Biscuits              459\n",
      "Cakes                 452\n",
      "Edible Oil & Ghee     451\n",
      "Spices                447\n",
      "Mutton                394\n",
      "Eggs                  379\n",
      "Organic Staples       372\n",
      "Fresh Fruits          369\n",
      "Fish                  369\n",
      "Fresh Vegetables      354\n",
      "Atta & Flour          353\n",
      "Organic Fruits        348\n",
      "Chicken               348\n",
      "Organic Vegetables    347\n",
      "Dals & Pulses         343\n",
      "Rice                  330\n",
      "Name: sub_category, dtype: int64\n"
     ]
    }
   ],
   "source": [
    "print(Orders_by_sub_category)"
   ]
  },
  {
   "cell_type": "code",
   "execution_count": 34,
   "id": "efc7f2b7",
   "metadata": {},
   "outputs": [],
   "source": [
    "# Determine the number of orders per Region\n",
    "\n",
    "Orders_by_region = Sales_data[\"region\"].value_counts(sort=True)"
   ]
  },
  {
   "cell_type": "code",
   "execution_count": 35,
   "id": "72a6ec25",
   "metadata": {},
   "outputs": [
    {
     "name": "stdout",
     "output_type": "stream",
     "text": [
      "West       3203\n",
      "East       2848\n",
      "Central    2323\n",
      "South      1619\n",
      "North         1\n",
      "Name: region, dtype: int64\n"
     ]
    }
   ],
   "source": [
    "print(Orders_by_region)"
   ]
  },
  {
   "cell_type": "code",
   "execution_count": 70,
   "id": "1e36d684",
   "metadata": {},
   "outputs": [
    {
     "name": "stdout",
     "output_type": "stream",
     "text": [
      "    region      profit\n",
      "4     West  1192004.61\n",
      "1     East  1074345.58\n",
      "0  Central   856806.84\n",
      "3    South   623562.89\n",
      "2    North      401.28\n"
     ]
    }
   ],
   "source": [
    "# Determine the Regional profit\n",
    "\n",
    "Profit_by_region = Sales_data.groupby(\"region\")[\"profit\"].sum().reset_index()\n",
    "Profit_by_region_sorted=Profit_by_region.sort_values(\"profit\", ascending = False)\n",
    "print(Profit_by_region_sorted)"
   ]
  },
  {
   "cell_type": "code",
   "execution_count": 71,
   "id": "b773dc30",
   "metadata": {},
   "outputs": [],
   "source": [
    "# Based on the output above, we can see that the profitability per region is driven by the volume of orders"
   ]
  },
  {
   "cell_type": "code",
   "execution_count": 82,
   "id": "ea4a5dee",
   "metadata": {},
   "outputs": [
    {
     "data": {
      "text/html": [
       "<div>\n",
       "<style scoped>\n",
       "    .dataframe tbody tr th:only-of-type {\n",
       "        vertical-align: middle;\n",
       "    }\n",
       "\n",
       "    .dataframe tbody tr th {\n",
       "        vertical-align: top;\n",
       "    }\n",
       "\n",
       "    .dataframe thead th {\n",
       "        text-align: right;\n",
       "    }\n",
       "</style>\n",
       "<table border=\"1\" class=\"dataframe\">\n",
       "  <thead>\n",
       "    <tr style=\"text-align: right;\">\n",
       "      <th></th>\n",
       "      <th></th>\n",
       "      <th>min</th>\n",
       "      <th>max</th>\n",
       "      <th>sum</th>\n",
       "    </tr>\n",
       "    <tr>\n",
       "      <th>category</th>\n",
       "      <th>region</th>\n",
       "      <th></th>\n",
       "      <th></th>\n",
       "      <th></th>\n",
       "    </tr>\n",
       "  </thead>\n",
       "  <tbody>\n",
       "    <tr>\n",
       "      <th rowspan=\"4\" valign=\"top\">Bakery</th>\n",
       "      <th>Central</th>\n",
       "      <td>505</td>\n",
       "      <td>2494</td>\n",
       "      <td>448343</td>\n",
       "    </tr>\n",
       "    <tr>\n",
       "      <th>East</th>\n",
       "      <td>501</td>\n",
       "      <td>2496</td>\n",
       "      <td>588241</td>\n",
       "    </tr>\n",
       "    <tr>\n",
       "      <th>South</th>\n",
       "      <td>504</td>\n",
       "      <td>2500</td>\n",
       "      <td>361385</td>\n",
       "    </tr>\n",
       "    <tr>\n",
       "      <th>West</th>\n",
       "      <td>501</td>\n",
       "      <td>2498</td>\n",
       "      <td>714312</td>\n",
       "    </tr>\n",
       "    <tr>\n",
       "      <th rowspan=\"4\" valign=\"top\">Beverages</th>\n",
       "      <th>Central</th>\n",
       "      <td>510</td>\n",
       "      <td>2500</td>\n",
       "      <td>501194</td>\n",
       "    </tr>\n",
       "    <tr>\n",
       "      <th>East</th>\n",
       "      <td>502</td>\n",
       "      <td>2500</td>\n",
       "      <td>577206</td>\n",
       "    </tr>\n",
       "    <tr>\n",
       "      <th>South</th>\n",
       "      <td>503</td>\n",
       "      <td>2493</td>\n",
       "      <td>344666</td>\n",
       "    </tr>\n",
       "    <tr>\n",
       "      <th>West</th>\n",
       "      <td>505</td>\n",
       "      <td>2481</td>\n",
       "      <td>662247</td>\n",
       "    </tr>\n",
       "    <tr>\n",
       "      <th rowspan=\"4\" valign=\"top\">Eggs, Meat &amp; Fish</th>\n",
       "      <th>Central</th>\n",
       "      <td>508</td>\n",
       "      <td>2499</td>\n",
       "      <td>516642</td>\n",
       "    </tr>\n",
       "    <tr>\n",
       "      <th>East</th>\n",
       "      <td>500</td>\n",
       "      <td>2491</td>\n",
       "      <td>677830</td>\n",
       "    </tr>\n",
       "    <tr>\n",
       "      <th>South</th>\n",
       "      <td>508</td>\n",
       "      <td>2496</td>\n",
       "      <td>360963</td>\n",
       "    </tr>\n",
       "    <tr>\n",
       "      <th>West</th>\n",
       "      <td>502</td>\n",
       "      <td>2499</td>\n",
       "      <td>711966</td>\n",
       "    </tr>\n",
       "    <tr>\n",
       "      <th rowspan=\"4\" valign=\"top\">Food Grains</th>\n",
       "      <th>Central</th>\n",
       "      <td>502</td>\n",
       "      <td>2497</td>\n",
       "      <td>463683</td>\n",
       "    </tr>\n",
       "    <tr>\n",
       "      <th>East</th>\n",
       "      <td>502</td>\n",
       "      <td>2493</td>\n",
       "      <td>598868</td>\n",
       "    </tr>\n",
       "    <tr>\n",
       "      <th>South</th>\n",
       "      <td>501</td>\n",
       "      <td>2499</td>\n",
       "      <td>353069</td>\n",
       "    </tr>\n",
       "    <tr>\n",
       "      <th>West</th>\n",
       "      <td>507</td>\n",
       "      <td>2495</td>\n",
       "      <td>699652</td>\n",
       "    </tr>\n",
       "    <tr>\n",
       "      <th rowspan=\"4\" valign=\"top\">Fruits &amp; Veggies</th>\n",
       "      <th>Central</th>\n",
       "      <td>505</td>\n",
       "      <td>2498</td>\n",
       "      <td>526507</td>\n",
       "    </tr>\n",
       "    <tr>\n",
       "      <th>East</th>\n",
       "      <td>509</td>\n",
       "      <td>2491</td>\n",
       "      <td>564237</td>\n",
       "    </tr>\n",
       "    <tr>\n",
       "      <th>South</th>\n",
       "      <td>500</td>\n",
       "      <td>2492</td>\n",
       "      <td>352162</td>\n",
       "    </tr>\n",
       "    <tr>\n",
       "      <th>West</th>\n",
       "      <td>503</td>\n",
       "      <td>2500</td>\n",
       "      <td>657821</td>\n",
       "    </tr>\n",
       "    <tr>\n",
       "      <th rowspan=\"5\" valign=\"top\">Oil &amp; Masala</th>\n",
       "      <th>Central</th>\n",
       "      <td>506</td>\n",
       "      <td>2482</td>\n",
       "      <td>453293</td>\n",
       "    </tr>\n",
       "    <tr>\n",
       "      <th>East</th>\n",
       "      <td>504</td>\n",
       "      <td>2500</td>\n",
       "      <td>622071</td>\n",
       "    </tr>\n",
       "    <tr>\n",
       "      <th>North</th>\n",
       "      <td>1254</td>\n",
       "      <td>1254</td>\n",
       "      <td>1254</td>\n",
       "    </tr>\n",
       "    <tr>\n",
       "      <th>South</th>\n",
       "      <td>524</td>\n",
       "      <td>2493</td>\n",
       "      <td>298859</td>\n",
       "    </tr>\n",
       "    <tr>\n",
       "      <th>West</th>\n",
       "      <td>500</td>\n",
       "      <td>2500</td>\n",
       "      <td>662965</td>\n",
       "    </tr>\n",
       "    <tr>\n",
       "      <th rowspan=\"4\" valign=\"top\">Snacks</th>\n",
       "      <th>Central</th>\n",
       "      <td>501</td>\n",
       "      <td>2500</td>\n",
       "      <td>558494</td>\n",
       "    </tr>\n",
       "    <tr>\n",
       "      <th>East</th>\n",
       "      <td>500</td>\n",
       "      <td>2488</td>\n",
       "      <td>619915</td>\n",
       "    </tr>\n",
       "    <tr>\n",
       "      <th>South</th>\n",
       "      <td>508</td>\n",
       "      <td>2487</td>\n",
       "      <td>369357</td>\n",
       "    </tr>\n",
       "    <tr>\n",
       "      <th>West</th>\n",
       "      <td>503</td>\n",
       "      <td>2500</td>\n",
       "      <td>689780</td>\n",
       "    </tr>\n",
       "  </tbody>\n",
       "</table>\n",
       "</div>"
      ],
      "text/plain": [
       "                            min   max     sum\n",
       "category          region                     \n",
       "Bakery            Central   505  2494  448343\n",
       "                  East      501  2496  588241\n",
       "                  South     504  2500  361385\n",
       "                  West      501  2498  714312\n",
       "Beverages         Central   510  2500  501194\n",
       "                  East      502  2500  577206\n",
       "                  South     503  2493  344666\n",
       "                  West      505  2481  662247\n",
       "Eggs, Meat & Fish Central   508  2499  516642\n",
       "                  East      500  2491  677830\n",
       "                  South     508  2496  360963\n",
       "                  West      502  2499  711966\n",
       "Food Grains       Central   502  2497  463683\n",
       "                  East      502  2493  598868\n",
       "                  South     501  2499  353069\n",
       "                  West      507  2495  699652\n",
       "Fruits & Veggies  Central   505  2498  526507\n",
       "                  East      509  2491  564237\n",
       "                  South     500  2492  352162\n",
       "                  West      503  2500  657821\n",
       "Oil & Masala      Central   506  2482  453293\n",
       "                  East      504  2500  622071\n",
       "                  North    1254  1254    1254\n",
       "                  South     524  2493  298859\n",
       "                  West      500  2500  662965\n",
       "Snacks            Central   501  2500  558494\n",
       "                  East      500  2488  619915\n",
       "                  South     508  2487  369357\n",
       "                  West      503  2500  689780"
      ]
     },
     "execution_count": 82,
     "metadata": {},
     "output_type": "execute_result"
    }
   ],
   "source": [
    "Sales_data.groupby([\"category\",\"region\"])[\"total_sales\"].agg([min, max, sum])"
   ]
  },
  {
   "cell_type": "code",
   "execution_count": 73,
   "id": "758e079a",
   "metadata": {},
   "outputs": [
    {
     "data": {
      "text/html": [
       "<div>\n",
       "<style scoped>\n",
       "    .dataframe tbody tr th:only-of-type {\n",
       "        vertical-align: middle;\n",
       "    }\n",
       "\n",
       "    .dataframe tbody tr th {\n",
       "        vertical-align: top;\n",
       "    }\n",
       "\n",
       "    .dataframe thead th {\n",
       "        text-align: right;\n",
       "    }\n",
       "</style>\n",
       "<table border=\"1\" class=\"dataframe\">\n",
       "  <thead>\n",
       "    <tr style=\"text-align: right;\">\n",
       "      <th>region</th>\n",
       "      <th>Central</th>\n",
       "      <th>East</th>\n",
       "      <th>North</th>\n",
       "      <th>South</th>\n",
       "      <th>West</th>\n",
       "      <th>All</th>\n",
       "    </tr>\n",
       "    <tr>\n",
       "      <th>category</th>\n",
       "      <th></th>\n",
       "      <th></th>\n",
       "      <th></th>\n",
       "      <th></th>\n",
       "      <th></th>\n",
       "      <th></th>\n",
       "    </tr>\n",
       "  </thead>\n",
       "  <tbody>\n",
       "    <tr>\n",
       "      <th>Bakery</th>\n",
       "      <td>1450.948220</td>\n",
       "      <td>1500.614796</td>\n",
       "      <td>0</td>\n",
       "      <td>1505.770833</td>\n",
       "      <td>1513.372881</td>\n",
       "      <td>1494.891012</td>\n",
       "    </tr>\n",
       "    <tr>\n",
       "      <th>Beverages</th>\n",
       "      <td>1461.206997</td>\n",
       "      <td>1499.236364</td>\n",
       "      <td>0</td>\n",
       "      <td>1518.352423</td>\n",
       "      <td>1488.195506</td>\n",
       "      <td>1489.509286</td>\n",
       "    </tr>\n",
       "    <tr>\n",
       "      <th>Eggs, Meat &amp; Fish</th>\n",
       "      <td>1560.851964</td>\n",
       "      <td>1509.643653</td>\n",
       "      <td>0</td>\n",
       "      <td>1549.197425</td>\n",
       "      <td>1492.591195</td>\n",
       "      <td>1521.745638</td>\n",
       "    </tr>\n",
       "    <tr>\n",
       "      <th>Food Grains</th>\n",
       "      <td>1495.751613</td>\n",
       "      <td>1523.837150</td>\n",
       "      <td>0</td>\n",
       "      <td>1521.849138</td>\n",
       "      <td>1511.127430</td>\n",
       "      <td>1513.070100</td>\n",
       "    </tr>\n",
       "    <tr>\n",
       "      <th>Fruits &amp; Veggies</th>\n",
       "      <td>1483.118310</td>\n",
       "      <td>1469.367188</td>\n",
       "      <td>0</td>\n",
       "      <td>1504.965812</td>\n",
       "      <td>1478.249438</td>\n",
       "      <td>1481.471791</td>\n",
       "    </tr>\n",
       "    <tr>\n",
       "      <th>Oil &amp; Masala</th>\n",
       "      <td>1510.976667</td>\n",
       "      <td>1495.362981</td>\n",
       "      <td>1254</td>\n",
       "      <td>1479.500000</td>\n",
       "      <td>1499.920814</td>\n",
       "      <td>1497.753123</td>\n",
       "    </tr>\n",
       "    <tr>\n",
       "      <th>Snacks</th>\n",
       "      <td>1489.317333</td>\n",
       "      <td>1445.023310</td>\n",
       "      <td>0</td>\n",
       "      <td>1471.541833</td>\n",
       "      <td>1502.788671</td>\n",
       "      <td>1477.903567</td>\n",
       "    </tr>\n",
       "    <tr>\n",
       "      <th>All</th>\n",
       "      <td>1492.964270</td>\n",
       "      <td>1491.702247</td>\n",
       "      <td>1254</td>\n",
       "      <td>1507.387894</td>\n",
       "      <td>1498.202623</td>\n",
       "      <td>1496.596158</td>\n",
       "    </tr>\n",
       "  </tbody>\n",
       "</table>\n",
       "</div>"
      ],
      "text/plain": [
       "region                 Central         East  North        South         West  \\\n",
       "category                                                                       \n",
       "Bakery             1450.948220  1500.614796      0  1505.770833  1513.372881   \n",
       "Beverages          1461.206997  1499.236364      0  1518.352423  1488.195506   \n",
       "Eggs, Meat & Fish  1560.851964  1509.643653      0  1549.197425  1492.591195   \n",
       "Food Grains        1495.751613  1523.837150      0  1521.849138  1511.127430   \n",
       "Fruits & Veggies   1483.118310  1469.367188      0  1504.965812  1478.249438   \n",
       "Oil & Masala       1510.976667  1495.362981   1254  1479.500000  1499.920814   \n",
       "Snacks             1489.317333  1445.023310      0  1471.541833  1502.788671   \n",
       "All                1492.964270  1491.702247   1254  1507.387894  1498.202623   \n",
       "\n",
       "region                     All  \n",
       "category                        \n",
       "Bakery             1494.891012  \n",
       "Beverages          1489.509286  \n",
       "Eggs, Meat & Fish  1521.745638  \n",
       "Food Grains        1513.070100  \n",
       "Fruits & Veggies   1481.471791  \n",
       "Oil & Masala       1497.753123  \n",
       "Snacks             1477.903567  \n",
       "All                1496.596158  "
      ]
     },
     "execution_count": 73,
     "metadata": {},
     "output_type": "execute_result"
    }
   ],
   "source": [
    "Sales_data.pivot_table(values=\"total_sales\", index=\"category\", columns = \"region\", fill_value=0, margins=True)"
   ]
  },
  {
   "cell_type": "code",
   "execution_count": 74,
   "id": "5b59a8d8",
   "metadata": {},
   "outputs": [],
   "source": [
    "import seaborn as sns"
   ]
  },
  {
   "cell_type": "code",
   "execution_count": 75,
   "id": "648153cf",
   "metadata": {},
   "outputs": [
    {
     "data": {
      "text/plain": [
       "<AxesSubplot:xlabel='new_order_date', ylabel='total_sales'>"
      ]
     },
     "execution_count": 75,
     "metadata": {},
     "output_type": "execute_result"
    },
    {
     "data": {
      "image/png": "[encoded data removed]",
      "text/plain": [
       "<Figure size 432x288 with 1 Axes>"
      ]
     },
     "metadata": {
      "needs_background": "light"
     },
     "output_type": "display_data"
    }
   ],
   "source": [
    "sns.lineplot(data=Sales_data, x=\"new_order_date\", y=\"total_sales\")"
   ]
  },
  {
   "cell_type": "code",
   "execution_count": 76,
   "id": "5a1e7c4c",
   "metadata": {},
   "outputs": [
    {
     "data": {
      "image/png": "[encoded data removed]",
      "text/plain": [
       "<Figure size 1080x504 with 1 Axes>"
      ]
     },
     "metadata": {
      "needs_background": "light"
     },
     "output_type": "display_data"
    }
   ],
   "source": [
    "city = Sales_data.groupby('city')['profit'].sum().reset_index().sort_values('profit',ascending=False).reset_index(drop=True)\n",
    "plt.figure(figsize=(15,7))\n",
    "g = sns.barplot(data=city,x='city',y='profit')\n",
    "\n",
    "plt.title('Profit by City')\n",
    "plt.xticks(rotation=45)\n",
    "plt.show()"
   ]
  },
  {
   "cell_type": "code",
   "execution_count": 77,
   "id": "46aad39a",
   "metadata": {},
   "outputs": [
    {
     "data": {
      "image/png": "[encoded data removed]",
      "text/plain": [
       "<Figure size 432x288 with 1 Axes>"
      ]
     },
     "metadata": {
      "needs_background": "light"
     },
     "output_type": "display_data"
    }
   ],
   "source": [
    "year = Sales_data.groupby('order_year')['profit'].sum().reset_index()\n",
    "g = sns.barplot(data=year,x='order_year',y='profit')\n",
    "plt.title('Profit by Year')\n",
    "plt.show()"
   ]
  },
  {
   "cell_type": "code",
   "execution_count": 78,
   "id": "f1eb1bf6",
   "metadata": {},
   "outputs": [
    {
     "data": {
      "image/png": "[encoded data removed]",
      "text/plain": [
       "<Figure size 432x288 with 1 Axes>"
      ]
     },
     "metadata": {
      "needs_background": "light"
     },
     "output_type": "display_data"
    }
   ],
   "source": [
    "# Product category with highest Sales\n",
    "sales_category=Sales_data.groupby(\"category\")[\"total_sales\"].sum()\n",
    "sales_category.plot(kind='bar')\n",
    "plt.xticks(rotation=45)\n",
    "plt.show()"
   ]
  },
  {
   "cell_type": "code",
   "execution_count": 79,
   "id": "28877cb0",
   "metadata": {},
   "outputs": [
    {
     "data": {
      "image/png": "[encoded data removed]",
      "text/plain": [
       "<Figure size 432x288 with 1 Axes>"
      ]
     },
     "metadata": {
      "needs_background": "light"
     },
     "output_type": "display_data"
    }
   ],
   "source": [
    "# Product sub-category with highest Sales\n",
    "sales_sub_category=Sales_data.groupby(\"sub_category\")[\"total_sales\"].sum()\n",
    "sales_sub_category.plot(kind='bar')\n",
    "plt.xticks(rotation=90)\n",
    "plt.show()"
   ]
  },
  {
   "cell_type": "code",
   "execution_count": 80,
   "id": "2d119d12",
   "metadata": {},
   "outputs": [],
   "source": [
    "# the above graph shows highest sales in sub-categories of Health drinks and Soft drinks"
   ]
  },
  {
   "cell_type": "code",
   "execution_count": null,
   "id": "d065be4a",
   "metadata": {},
   "outputs": [],
   "source": []
  }
 ],
 "metadata": {
  "kernelspec": {
   "display_name": "Python 3",
   "language": "python",
   "name": "python3"
  },
  "language_info": {
   "codemirror_mode": {
    "name": "ipython",
    "version": 3
   },
   "file_extension": ".py",
   "mimetype": "text/x-python",
   "name": "python",
   "nbconvert_exporter": "python",
   "pygments_lexer": "ipython3",
   "version": "3.8.8"
  }
 },
 "nbformat": 4,
 "nbformat_minor": 5
}
